{
 "cells": [
  {
   "cell_type": "code",
   "execution_count": 8,
   "metadata": {},
   "outputs": [
    {
     "name": "stdout",
     "output_type": "stream",
     "text": [
      "k:\\Мой диск\\GeekBrains\\Знакомство с языками программирования\\Python\\Python_Immersion\\homework7\n",
      "k:\\Мой диск\\GeekBrains\\Знакомство с языками программирования\\Python\\Python_Immersion\\homework7\n"
     ]
    }
   ],
   "source": [
    "import os\n",
    "from pathlib import Path\n",
    "print(os.getcwd())\n",
    "print(Path.cwd())\n"
   ]
  },
  {
   "cell_type": "code",
   "execution_count": 5,
   "metadata": {},
   "outputs": [
    {
     "name": "stdout",
     "output_type": "stream",
     "text": [
      "k:\\Мой диск\\GeekBrains\\Знакомство с языками программирования\\Python\n",
      "k:\\Мой диск\\GeekBrains\\Знакомство с языками программирования\\Python\n",
      "k:\\Мой диск\\GeekBrains\\Знакомство с языками программирования\\Python\\Python_Immersion\\homework7\n",
      "k:\\Мой диск\\GeekBrains\\Знакомство с языками программирования\\Python\\Python_Immersion\\homework7\n"
     ]
    },
    {
     "name": "stderr",
     "output_type": "stream",
     "text": [
      "<>:5: SyntaxWarning: invalid escape sequence '\\h'\n",
      "<>:5: SyntaxWarning: invalid escape sequence '\\h'\n",
      "C:\\Users\\alexk\\AppData\\Local\\Temp\\ipykernel_7032\\3654627982.py:5: SyntaxWarning: invalid escape sequence '\\h'\n",
      "  os.chdir('Python_Immersion\\homework7')\n"
     ]
    }
   ],
   "source": [
    "import os\n",
    "from pathlib import Path\n",
    "print(os.getcwd())\n",
    "print(Path.cwd())\n",
    "os.chdir('Python_Immersion\\homework7')\n",
    "print(os.getcwd())\n",
    "print(Path.cwd())"
   ]
  },
  {
   "cell_type": "code",
   "execution_count": 3,
   "metadata": {},
   "outputs": [],
   "source": [
    "import os\n",
    "from pathlib import Path\n",
    "os.mkdir('new_os_dir')\n",
    "Path('new_path_dir').mkdir()\n"
   ]
  },
  {
   "cell_type": "code",
   "execution_count": 10,
   "metadata": {},
   "outputs": [
    {
     "name": "stdout",
     "output_type": "stream",
     "text": [
      "['task2.py', 'README.md', 'proba7.ipynb']\n",
      "k:\\Мой диск\\GeekBrains\\Знакомство с языками программирования\\Python\\Python_Immersion\\homework7\\task2.py\n",
      "k:\\Мой диск\\GeekBrains\\Знакомство с языками программирования\\Python\\Python_Immersion\\homework7\\README.md\n",
      "k:\\Мой диск\\GeekBrains\\Знакомство с языками программирования\\Python\\Python_Immersion\\homework7\\proba7.ipynb\n"
     ]
    }
   ],
   "source": [
    "import os\n",
    "from pathlib import Path\n",
    "print(os.listdir())\n",
    "p = Path(Path().cwd())\n",
    "for obj in p.iterdir():\n",
    "    print(obj)"
   ]
  },
  {
   "cell_type": "code",
   "execution_count": 11,
   "metadata": {},
   "outputs": [
    {
     "name": "stdout",
     "output_type": "stream",
     "text": [
      "os.path.isdir(obj) = False\tos.path.isfile(obj) = True\tos.path.islink(obj) = False\tobj = 'task2.py'\n",
      "os.path.isdir(obj) = False\tos.path.isfile(obj) = True\tos.path.islink(obj) = False\tobj = 'README.md'\n",
      "os.path.isdir(obj) = False\tos.path.isfile(obj) = True\tos.path.islink(obj) = False\tobj = 'proba7.ipynb'\n",
      "obj.is_dir() = False\tobj.is_file() = True\tobj.is_symlink() = False\tobj = WindowsPath('k:/Мой диск/GeekBrains/Знакомство с языками программирования/Python/Python_Immersion/homework7/task2.py')\n",
      "obj.is_dir() = False\tobj.is_file() = True\tobj.is_symlink() = False\tobj = WindowsPath('k:/Мой диск/GeekBrains/Знакомство с языками программирования/Python/Python_Immersion/homework7/README.md')\n",
      "obj.is_dir() = False\tobj.is_file() = True\tobj.is_symlink() = False\tobj = WindowsPath('k:/Мой диск/GeekBrains/Знакомство с языками программирования/Python/Python_Immersion/homework7/proba7.ipynb')\n"
     ]
    }
   ],
   "source": [
    "import os\n",
    "from pathlib import Path\n",
    "dir_list = os.listdir()\n",
    "for obj in dir_list:\n",
    "    print(f'{os.path.isdir(obj) = }', end='\\t')\n",
    "    print(f'{os.path.isfile(obj) = }', end='\\t')\n",
    "    print(f'{os.path.islink(obj) = }', end='\\t')\n",
    "    print(f'{obj = }')\n",
    "p = Path(Path().cwd())\n",
    "for obj in p.iterdir():\n",
    "    print(f'{obj.is_dir() = }', end='\\t')\n",
    "    print(f'{obj.is_file() = }', end='\\t')\n",
    "    print(f'{obj.is_symlink() = }', end='\\t')\n",
    "    print(f'{obj = }')\n"
   ]
  },
  {
   "cell_type": "code",
   "execution_count": 15,
   "metadata": {},
   "outputs": [
    {
     "name": "stdout",
     "output_type": "stream",
     "text": [
      "dir_path = 'k:\\\\Мой диск\\\\GeekBrains\\\\Знакомство с языками программирования\\\\Python\\\\Python_Immersion\\\\homework7'\n",
      "dir_name = []\n",
      "file_name = ['task2.py', 'README.md', 'proba7.ipynb']\n",
      "\n"
     ]
    },
    {
     "name": "stderr",
     "output_type": "stream",
     "text": [
      "<>:2: SyntaxWarning: invalid escape sequence '\\G'\n",
      "<>:2: SyntaxWarning: invalid escape sequence '\\G'\n",
      "C:\\Users\\alexk\\AppData\\Local\\Temp\\ipykernel_7032\\2632704083.py:2: SyntaxWarning: invalid escape sequence '\\G'\n",
      "  os.chdir('k:\\Мой диск\\GeekBrains\\Знакомство с языками программирования\\Python\\Python_Immersion\\homework7')\n"
     ]
    }
   ],
   "source": [
    "import os\n",
    "os.chdir('k:\\Мой диск\\GeekBrains\\Знакомство с языками программирования\\Python\\Python_Immersion\\homework7')\n",
    "\n",
    "for dir_path, dir_name, file_name in os.walk(os.getcwd()):\n",
    "    print(f'{dir_path = }\\n{dir_name = }\\n{file_name = }\\n')\n"
   ]
  }
 ],
 "metadata": {
  "kernelspec": {
   "display_name": "Python 3",
   "language": "python",
   "name": "python3"
  },
  "language_info": {
   "codemirror_mode": {
    "name": "ipython",
    "version": 3
   },
   "file_extension": ".py",
   "mimetype": "text/x-python",
   "name": "python",
   "nbconvert_exporter": "python",
   "pygments_lexer": "ipython3",
   "version": "3.13.0"
  }
 },
 "nbformat": 4,
 "nbformat_minor": 2
}
