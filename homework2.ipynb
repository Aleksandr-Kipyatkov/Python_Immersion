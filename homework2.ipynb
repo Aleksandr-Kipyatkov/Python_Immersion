{
 "cells": [
  {
   "cell_type": "markdown",
   "metadata": {},
   "source": [
    "# Погружение в Python. Часть 1\n",
    "## Урок 2. Простые типы данных\n",
    "\n",
    "1. Решить задачи, которые не успели решить на семинаре.\n",
    "2. Напишите программу, которая получает целое число и возвращает его шестнадцатеричное строковое представление. Функцию hex используйте для проверки своего результата.\n",
    "3. Напишите программу, которая принимает две строки вида “a/b” - дробь с числителем и знаменателем. Программа должна возвращать сумму и произведение* дробей. Для проверки своего кода используйте модуль fractions"
   ]
  },
  {
   "cell_type": "code",
   "execution_count": null,
   "metadata": {},
   "outputs": [],
   "source": []
  },
  {
   "cell_type": "code",
   "execution_count": 26,
   "metadata": {},
   "outputs": [
    {
     "name": "stdout",
     "output_type": "stream",
     "text": [
      "65535 = 0xffff = 0xffff\n"
     ]
    }
   ],
   "source": [
    "'''\n",
    "Напишите программу, которая получает целое число и возвращает его шестнадцатеричное строковое представление. \n",
    "Функцию hex используйте для проверки своего результата.\n",
    "'''\n",
    "\n",
    "HEX_DIGIT = '0123456789abcdef'\n",
    "\n",
    "def hex_number(number):\n",
    "   hex_number = ''\n",
    "   while number > 0:\n",
    "       hex_number = HEX_DIGIT[number % 16] + hex_number\n",
    "       number = number // 16\n",
    "   hex_number = '0x' + hex_number\n",
    "   return hex_number\n",
    "\n",
    "num = int(input('Введите целое число: '))\n",
    "\n",
    "print(f'{num} = {hex_number(num)} = {hex(num)}')\n",
    "\n"
   ]
  },
  {
   "cell_type": "code",
   "execution_count": 25,
   "metadata": {},
   "outputs": [
    {
     "name": "stdout",
     "output_type": "stream",
     "text": [
      "1/2 + 1/3 = 5/6 = 5/6\n",
      "1/2 * 1/3 = 1/6 = 1/6\n"
     ]
    }
   ],
   "source": [
    "'''\n",
    "Напишите программу, которая принимает две строки вида “a/b” - дробь с числителем и знаменателем. \n",
    "Программа должна возвращать сумму и произведение* дробей. Для проверки своего кода используйте модуль fractions\n",
    "'''\n",
    "\n",
    "import fractions\n",
    "\n",
    "#fraction1 = input('Введите первую дробь: ')     # fractions.Fraction('1/2')\n",
    "#fraction2 = input('Введите вторую дробь: ')\n",
    "fraction1 = '1/2'\n",
    "fraction2 = '1/3'\n",
    "\n",
    "\n",
    "def fraction_sum(fraction1, fraction2): # сумма дробей\n",
    "    numer1, denom1 = map(int, fraction1.split('/'))\n",
    "    numer2, denom2 = map(int, fraction2.split('/'))\n",
    "    numer_sum = numer1 * denom2 + numer2 * denom1\n",
    "    denom_sum = denom1 * denom2\n",
    "    reduction = nod(numer_sum, denom_sum)\n",
    "    return str(numer_sum // reduction) + '/' + str(denom_sum // reduction)\n",
    "\n",
    "def fraction_product(fraction1, fraction2): # произведение дробей\n",
    "    numer1, denom1 = map(int, fraction1.split('/'))\n",
    "    numer2, denom2 = map(int, fraction2.split('/'))\n",
    "    numer_product = numer1 * numer2\n",
    "    denom_product = denom1 * denom2\n",
    "    reduction = nod(numer_product, denom_product)\n",
    "    return str(numer_product // reduction) + '/' + str(denom_product // reduction)\n",
    "\n",
    "def nod(num_a, num_b): # наибольший общий делитель (НОД)\n",
    "    while num_b != 0:\n",
    "        num_a, num_b = num_b, num_a % num_b\n",
    "    return num_a    \n",
    "\n",
    "\n",
    "print(f'{fraction1} + {fraction2} = {fraction_sum(fraction1, fraction2)} = {fractions.Fraction(fraction1) + fractions.Fraction(fraction2)}')\n",
    "print(f'{fraction1} * {fraction2} = {fraction_product(fraction1, fraction2)} = {fractions.Fraction(fraction1) * fractions.Fraction(fraction2)}')\n",
    "\n"
   ]
  }
 ],
 "metadata": {
  "kernelspec": {
   "display_name": "Python 3",
   "language": "python",
   "name": "python3"
  },
  "language_info": {
   "codemirror_mode": {
    "name": "ipython",
    "version": 3
   },
   "file_extension": ".py",
   "mimetype": "text/x-python",
   "name": "python",
   "nbconvert_exporter": "python",
   "pygments_lexer": "ipython3",
   "version": "3.13.0"
  }
 },
 "nbformat": 4,
 "nbformat_minor": 2
}
