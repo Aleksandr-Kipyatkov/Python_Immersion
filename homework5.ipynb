{
 "cells": [
  {
   "cell_type": "markdown",
   "metadata": {},
   "source": [
    "# Погружение в Python. Часть 1\n",
    "## Урок 5. Генераторы и генераторные выражения\n",
    "\n",
    "Условие\n",
    "1. Решить задачи, которые не успели решить на семинаре.\n",
    "2. Напишите функцию, которая принимает на вход строку - абсолютный путь до файла. Функция возвращает кортеж из трёх элементов: путь, имя файла, расширение файла.\n",
    "3. Напишите однострочный генератор словаря, который принимает на вход три списка одинаковой длины: имена str, ставка int, премия str с указанием процентов вида “10.25%”. В результате получаем словарь с именем в качестве ключа и суммой премии в качестве значения. Сумма рассчитывается как ставка умноженная на процент премии\n",
    "4. Создайте функцию генератор чисел Фибоначчи https://ru.wikipedia.org/wiki/%D0%A7%D0%B8%D1%81%D0%BB%D0%B0_%D0%A4%D0%B8%D0%B1%D0%BE%D0%BD%D0%B0%D1%87%D1%87%D0%B8\n"
   ]
  },
  {
   "cell_type": "code",
   "execution_count": null,
   "metadata": {},
   "outputs": [
    {
     "data": {
      "text/plain": [
       "('/home/alex/geekbrains/python_immersion/', 'my.program.v1', '.ipynb')"
      ]
     },
     "execution_count": 126,
     "metadata": {},
     "output_type": "execute_result"
    }
   ],
   "source": [
    "# 2. Напишите функцию, которая принимает на вход строку - абсолютный путь до файла.\n",
    "# Функция возвращает кортеж из трёх элементов: путь, имя файла, расширение файла.\n",
    "\n",
    "def path_to_tuple(_path):\n",
    "    e = _path[::-1].find('.')\n",
    "    ext = _path[-e-1::] if e > 0 else ''\n",
    "    \n",
    "    _path = _path[:-len(ext)]\n",
    "    n = _path[::-1].find('/')\n",
    "    name = _path[-n::] if n >= 0 else ''\n",
    "    \n",
    "    _path = _path[:-len(name)]\n",
    "    path = _path\n",
    "    return (path, name, ext)\n",
    "\n",
    "\n",
    "path = '/home/alex/geekbrains/python_immersion/my.program.v1.ipynb'\n",
    "\n",
    "path_to_tuple(path)\n",
    "\n"
   ]
  },
  {
   "cell_type": "code",
   "execution_count": 125,
   "metadata": {},
   "outputs": [
    {
     "data": {
      "text/plain": [
       "('/home/alex/geekbrains/python_immersion/', 'my.program.v1', '.ipynb')"
      ]
     },
     "execution_count": 125,
     "metadata": {},
     "output_type": "execute_result"
    }
   ],
   "source": [
    "import re\n",
    "\n",
    "def path_to_tuple1(_path):\n",
    "    path_match = re.search(r'^(/[^/]+)+/', _path)\n",
    "    if path_match:\n",
    "        file_path = path_match.group()\n",
    "    else:\n",
    "        file_path = ''\n",
    "\n",
    "    filename_match = re.search(r'(?<=/)[^/]+(?=\\.[^.]{1,}$)', _path)\n",
    "    if filename_match:\n",
    "        filename = filename_match.group()\n",
    "    else:\n",
    "        filename = ''\n",
    "\n",
    "    extension_match = re.search(r'\\.[^.]+$', _path)\n",
    "    if extension_match:\n",
    "        extension = extension_match.group()\n",
    "    else:\n",
    "        extension = ''\n",
    "    return (file_path, filename, extension)\n",
    "\n",
    "\n",
    "path = '/home/alex/geekbrains/python_immersion/my.program.v1.ipynb'\n",
    "\n",
    "path_to_tuple1(path)\n",
    "\n"
   ]
  },
  {
   "cell_type": "code",
   "execution_count": 119,
   "metadata": {},
   "outputs": [
    {
     "name": "stdout",
     "output_type": "stream",
     "text": [
      "{'Иванов': 10250.0, 'Петров': 31250.0, 'Сидоров': 7850.0, 'Смирнов': 9900.0}\n"
     ]
    }
   ],
   "source": [
    "# 3. Напишите однострочный генератор словаря, который принимает на вход три списка одинаковой длины:\n",
    "# имена str, ставка int, премия str с указанием процентов вида “10.25%”. В результате получаем словарь с именем\n",
    "# в качестве ключа и суммой премии в качестве значения. Сумма рассчитывается как ставка умноженная на процент премии\n",
    "\n",
    "names = ['Иванов','Петров','Сидоров','Смирнов']\n",
    "stavki = [100000, 125000, 157000, 180000]\n",
    "bonuses = ['10.25%','25%','5%','5.5%']\n",
    "\n",
    "\n",
    "result = {names[i]: stavki[i] * float(bonuses[i][:-1]) / 100 for i in range(len(names))}\n",
    "print(result)"
   ]
  },
  {
   "cell_type": "code",
   "execution_count": 120,
   "metadata": {},
   "outputs": [
    {
     "name": "stdout",
     "output_type": "stream",
     "text": [
      "0 1 1 2 3 5 8 13 21 34 55 89 144 233 377\n"
     ]
    }
   ],
   "source": [
    "# 4. Создайте функцию генератор чисел Фибоначчи\n",
    "\n",
    "def fib1(_num):\n",
    "    _fib = [0,1]\n",
    "    for i in range(2, _num):\n",
    "        _fib.append(_fib[-1] + _fib[-2])\n",
    "    return _fib\n",
    "\n",
    "\n",
    "print(*fib1(15))\n",
    "\n"
   ]
  },
  {
   "cell_type": "code",
   "execution_count": 124,
   "metadata": {},
   "outputs": [
    {
     "name": "stdout",
     "output_type": "stream",
     "text": [
      "0 1 1 2 3 5 8 13 21 34 55 89 144 233 377\n"
     ]
    }
   ],
   "source": [
    "def fib2(_num):\n",
    "    _fib = [0,1]\n",
    "    [_fib.append(_fib[k-1]+_fib[k-2]) for k in range(2,_num) if _num > 1]\n",
    "    return _fib\n",
    "\n",
    "\n",
    "print(*fib2(15))\n"
   ]
  }
 ],
 "metadata": {
  "kernelspec": {
   "display_name": "Python 3",
   "language": "python",
   "name": "python3"
  },
  "language_info": {
   "codemirror_mode": {
    "name": "ipython",
    "version": 3
   },
   "file_extension": ".py",
   "mimetype": "text/x-python",
   "name": "python",
   "nbconvert_exporter": "python",
   "pygments_lexer": "ipython3",
   "version": "3.13.0"
  }
 },
 "nbformat": 4,
 "nbformat_minor": 2
}
